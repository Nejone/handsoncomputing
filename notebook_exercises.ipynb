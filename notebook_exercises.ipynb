{
  "metadata": {
    "kernelspec": {
      "name": "python",
      "display_name": "Pyolite",
      "language": "python"
    },
    "language_info": {
      "codemirror_mode": {
        "name": "python",
        "version": 3
      },
      "file_extension": ".py",
      "mimetype": "text/x-python",
      "name": "python",
      "nbconvert_exporter": "python",
      "pygments_lexer": "ipython3",
      "version": "3.8"
    }
  },
  "nbformat_minor": 4,
  "nbformat": 4,
  "cells": [
    {
      "cell_type": "markdown",
      "source": "## Jupyter Notebook example\n\nFollow instructions and fill in where required. Do not modify anything else than what you are asked to.",
      "metadata": {}
    },
    {
      "cell_type": "markdown",
      "source": "## Table of Contents\n\n* [1. Shell commands and line magics](#shellmagic)\n* [2. Latex for formulas](#latex)\n* [3. Interactive widget](#interactive)\n* [4. Git](#git)",
      "metadata": {}
    },
    {
      "cell_type": "markdown",
      "source": "### 1. Shell commands and line magics <a class=\"anchor\" id=\"shellmagic\"></a>\n\n1.1. In code cell below, run a shell command to print your working directory.\n\n1.2. Using a line magic create an alias called \"hello\" for command \"echo \"¡Hola mundo!\"\" and test it. Your answer should contain one line for creating alias and one line for using the alias.",
      "metadata": {}
    },
    {
      "cell_type": "code",
      "source": "# Exercise 1.1. here:\nprint school\n# Exercise 1.2. here:\nalias echo hello \"¡Hola mundo!\"",
      "metadata": {
        "trusted": true
      },
      "execution_count": 3,
      "outputs": [
        {
          "ename": "<class 'SyntaxError'>",
          "evalue": "Missing parentheses in call to 'print'. Did you mean print(...)? (<ipython-input-3-d3fd03012896>, line 2)",
          "traceback": [
            "\u001b[0;36m  Input \u001b[0;32mIn [3]\u001b[0;36m\u001b[0m\n\u001b[0;31m    print school\u001b[0m\n\u001b[0m    ^\u001b[0m\n\u001b[0;31mSyntaxError\u001b[0m\u001b[0;31m:\u001b[0m Missing parentheses in call to 'print'. Did you mean print(...)?\n"
          ],
          "output_type": "error"
        }
      ]
    },
    {
      "cell_type": "markdown",
      "source": "### 2. Markdown text <a class=\"anchor\" id=\"latex\"></a>\n\nDifferent kind of text can be added into markdown cells. [Here](https://jupyter-notebook.readthedocs.io/en/stable/examples/Notebook/Working%20With%20Markdown%20Cells.html) is a good source into Markdown basics.\n\n2.1. In markdown cell below display Pythagorean theorem using LaTex syntax.\n\n2.2. Display a Python function called \"hello\" that returns \"Hallo Welt!\". Use Github flavored markdown. (You may use some other programming language here if you wish)",
      "metadata": {}
    },
    {
      "cell_type": "markdown",
      "source": "2.1. here:\n\\begin{theorem}[Pythagorean theorem]\n\\label{pythagorean}\n\n2.2. here:\nprint \"\"",
      "metadata": {}
    },
    {
      "cell_type": "markdown",
      "source": "### 3. Interactive widget <a class=\"anchor\" id=\"interactive\"></a>\n\nIn the program below we want to investigate a set of movie reviews and see what are the most frequent words there. We are not interested in seeing punctuation marks or the clearly most common words referred as stopwords. \n\n3.1. Run the code and investigate the output. In the marked codeline there is something wrong that causes wrong output. Can you figure out what to add to display correct words?\n\n3.2. Use the @interact decorator at the end of the program to range displaying 5 to 10 most frequent words. You can see an example of the usage of the decorator [here](https://coderefinery.github.io/jupyter/examples/#widgets-for-interactive-data-fitting)",
      "metadata": {
        "tags": []
      }
    },
    {
      "cell_type": "code",
      "source": "# Notice!: \n# For ModuleNotFoundError: No module named 'nltk' you need to pip install nltk to your environment\n# For ModuleNotFoundError: No module named 'ipywidgets' you need to pip install ipywidgets to your environment\n# To install nltk data sets movie_reviews and stopwords you need to install the data sets with nltk.download. \n# See examples: https://www.nltk.org/data.html\n# Do that here:\nimport nltk",
      "metadata": {
        "trusted": true
      },
      "execution_count": 4,
      "outputs": []
    },
    {
      "cell_type": "code",
      "source": "from nltk import FreqDist\nfrom nltk import RegexpTokenizer\nfrom nltk.corpus import movie_reviews\nfrom nltk.corpus import stopwords \nfrom ipywidgets import interact\n\ntokenizer = RegexpTokenizer(r\"\\w+\")\nword_tokens = tokenizer.tokenize(movie_reviews.raw())\n\nstop_words = set(stopwords.words('english'))\n\n# Exercise 3.1. below: \nfiltered_words = [w for w in word_tokens if w in stop_words]\n\nfd = FreqDist(filtered_words)\nfd.plot(5)\n\n# Exercise 3.2. here:",
      "metadata": {
        "trusted": true
      },
      "execution_count": 5,
      "outputs": [
        {
          "ename": "<class 'ModuleNotFoundError'>",
          "evalue": "No module named 'ipywidgets'",
          "traceback": [
            "\u001b[0;31m---------------------------------------------------------------------------\u001b[0m",
            "\u001b[0;31mModuleNotFoundError\u001b[0m                       Traceback (most recent call last)",
            "Input \u001b[0;32mIn [5]\u001b[0m, in \u001b[0;36m<cell line: 5>\u001b[0;34m()\u001b[0m\n\u001b[1;32m      3\u001b[0m \u001b[38;5;28;01mfrom\u001b[39;00m \u001b[38;5;21;01mnltk\u001b[39;00m\u001b[38;5;21;01m.\u001b[39;00m\u001b[38;5;21;01mcorpus\u001b[39;00m \u001b[38;5;28;01mimport\u001b[39;00m movie_reviews\n\u001b[1;32m      4\u001b[0m \u001b[38;5;28;01mfrom\u001b[39;00m \u001b[38;5;21;01mnltk\u001b[39;00m\u001b[38;5;21;01m.\u001b[39;00m\u001b[38;5;21;01mcorpus\u001b[39;00m \u001b[38;5;28;01mimport\u001b[39;00m stopwords \n\u001b[0;32m----> 5\u001b[0m \u001b[38;5;28;01mfrom\u001b[39;00m \u001b[38;5;21;01mipywidgets\u001b[39;00m \u001b[38;5;28;01mimport\u001b[39;00m interact\n\u001b[1;32m      7\u001b[0m tokenizer \u001b[38;5;241m=\u001b[39m RegexpTokenizer(\u001b[38;5;124mr\u001b[39m\u001b[38;5;124m\"\u001b[39m\u001b[38;5;124m\\\u001b[39m\u001b[38;5;124mw+\u001b[39m\u001b[38;5;124m\"\u001b[39m)\n\u001b[1;32m      8\u001b[0m word_tokens \u001b[38;5;241m=\u001b[39m tokenizer\u001b[38;5;241m.\u001b[39mtokenize(movie_reviews\u001b[38;5;241m.\u001b[39mraw())\n",
            "\u001b[0;31mModuleNotFoundError\u001b[0m: No module named 'ipywidgets'"
          ],
          "output_type": "error"
        }
      ]
    },
    {
      "cell_type": "markdown",
      "source": "### 4. Git <a class=\"anchor\" id=\"git\"></a>\n\nFollow [these](https://coderefinery.github.io/jupyter/version-control/) instructions to save this notebook and create a repository for it. After you have done this, paste the repository url in the cell below. Please make your repository public on Github so that your reviewer is able to assess this exercise.",
      "metadata": {}
    },
    {
      "cell_type": "code",
      "source": "# Paste your repository url here: \n# ",
      "metadata": {},
      "execution_count": 52,
      "outputs": []
    }
  ]
}